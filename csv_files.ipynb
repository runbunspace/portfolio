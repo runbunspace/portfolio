{
 "cells": [
  {
   "cell_type": "markdown",
   "id": "473d64ee",
   "metadata": {},
   "source": [
    "## import modules first"
   ]
  },
  {
   "cell_type": "code",
   "execution_count": 20,
   "id": "d25fe202",
   "metadata": {},
   "outputs": [],
   "source": [
    "import random\n",
    "import csv\n",
    "import pandas as pd\n",
    "import mysql.connector as msql\n",
    "from mysql.connector import errorcode"
   ]
  },
  {
   "cell_type": "markdown",
   "id": "0c205729",
   "metadata": {},
   "source": [
    "## this class generates random character stats and stores them in a dictionary, self.stats\n",
    "### sample dictionary:\n",
    "```\n",
    "{'name': 'Lael Brightbuckle', 'race': 'elf', 'level': 1, 'alignment': 'neutral evil', \n",
    "'strength': 8, 'dexterity': 8, 'constitution': 14, 'intelligence': 5, 'wisdom': 13, 'charisma': 12}\n",
    "```"
   ]
  },
  {
   "cell_type": "code",
   "execution_count": 9,
   "id": "5c3185f8",
   "metadata": {},
   "outputs": [],
   "source": [
    "class character_gen:\n",
    "    def __init__(self):\n",
    "        level = {'level': 1}\n",
    "        self.level = level\n",
    "\n",
    "    def get_name(self):\n",
    "        \"\"\" generates character name \"\"\"\n",
    "        first_names = {1: 'Helja', 2: 'Ilde', 3: 'Birael', 4: 'Thea', \n",
    "                       5: 'Milo', 6: 'Lael', 7: 'Marci', 8: 'Wrenn', \n",
    "                       9: 'Lorill', 10: 'Amaun'}\n",
    "        first = random.randint(1,10)\n",
    "        first = first_names[first]\n",
    "        last_names = {1: 'Toruun', 2: 'Manbroek', 3: 'Naldo', 4: 'Brushfellow', \n",
    "                      5: 'Highthorne', 6: 'Navarro', 7: 'Faircloak', 8: 'Garreck', \n",
    "                      9: 'Brightbuckle', 10: 'Saluzir'}\n",
    "        last = random.randint(1,10)\n",
    "        last = last_names[last]\n",
    "        name = {'name': first + ' ' + last}\n",
    "        self.name = name\n",
    "\n",
    "    def get_race(self):\n",
    "        \"\"\" generates random character race and associated traits \"\"\"\n",
    "        races = {1: 'dwarf', 2: 'elf', 3: 'halfling', 4: 'human', 5: 'gnome'}\n",
    "        x = random.randint(1,5)\n",
    "        race = {'race': races[x]}\n",
    "        self.race = race\n",
    "        \n",
    "    def get_alignment(self):\n",
    "        \"\"\" generates random alignment \"\"\"\n",
    "        alignment_ethics = {1: 'lawful', 2: 'neutral', 3: 'chaotic'}\n",
    "        ethics = random.randint(1,3)\n",
    "        ethics = alignment_ethics[ethics]\n",
    "        alignment_morals = {1: 'good', 2: 'neutral', 3: 'evil'}\n",
    "        morals = random.randint(1,3)\n",
    "        morals = alignment_morals[morals]\n",
    "        alignment = {'alignment': ethics + ' ' + morals}\n",
    "        self.alignment = alignment\n",
    "        \n",
    "    def get_abilities(self):\n",
    "        \"\"\" generates random ability scores \"\"\"\n",
    "        abilities = {'strength': 1, 'dexterity': 1, 'constitution': 1, 'intelligence': 1, 'wisdom': 1, 'charisma': 1}\n",
    "        for key in abilities:\n",
    "            n = 1\n",
    "            temp = []\n",
    "            while n <=4:\n",
    "                x = random.randint(1, 6)\n",
    "                temp.append(x)\n",
    "                n += 1\n",
    "            temp.sort(reverse=True)\n",
    "            del temp[-1]\n",
    "            num = 0\n",
    "            for n in temp:\n",
    "                num += n\n",
    "            abilities[key] = num\n",
    "        self.abilities = abilities\n",
    "    \n",
    "    def gen(self):\n",
    "        self.get_name()\n",
    "        self.get_race()\n",
    "        self.get_alignment()\n",
    "        self.get_abilities()\n",
    "        stats = {}\n",
    "        stats.update(self.name)\n",
    "        stats.update(self.race)\n",
    "        stats.update(self.level)\n",
    "        stats.update(self.alignment)\n",
    "        stats.update(self.abilities)\n",
    "        self.stats = stats\n",
    "    \n"
   ]
  },
  {
   "cell_type": "markdown",
   "id": "027a50c7",
   "metadata": {},
   "source": [
    "## this method generates self.stats dictionaries using the above class\n",
    "## then csv DictWriter writes self.stats dictionaries to rows in a csv file"
   ]
  },
  {
   "cell_type": "code",
   "execution_count": 10,
   "id": "53a05379",
   "metadata": {},
   "outputs": [],
   "source": [
    "char = character_gen()\n",
    "\n",
    "with open('characters.csv', 'w', newline = '') as file:\n",
    "    columns = ['name', 'race', 'level', 'alignment', \n",
    "               'strength', 'dexterity', 'constitution', 'intelligence', 'wisdom', 'charisma']\n",
    "    writer = csv.DictWriter(file, fieldnames = columns)\n",
    "    writer.writeheader()\n",
    "    n = 1\n",
    "    while n <= 22:\n",
    "        char.gen()\n",
    "        writer.writerow(char.stats)\n",
    "        n += 1"
   ]
  },
  {
   "cell_type": "code",
   "execution_count": 12,
   "id": "855f5bbd",
   "metadata": {},
   "outputs": [
    {
     "name": "stdout",
     "output_type": "stream",
     "text": [
      "<class 'pandas.core.frame.DataFrame'>\n",
      "RangeIndex: 22 entries, 0 to 21\n",
      "Data columns (total 10 columns):\n",
      " #   Column        Non-Null Count  Dtype \n",
      "---  ------        --------------  ----- \n",
      " 0   name          22 non-null     object\n",
      " 1   race          22 non-null     object\n",
      " 2   level         22 non-null     int64 \n",
      " 3   alignment     22 non-null     object\n",
      " 4   strength      22 non-null     int64 \n",
      " 5   dexterity     22 non-null     int64 \n",
      " 6   constitution  22 non-null     int64 \n",
      " 7   intelligence  22 non-null     int64 \n",
      " 8   wisdom        22 non-null     int64 \n",
      " 9   charisma      22 non-null     int64 \n",
      "dtypes: int64(7), object(3)\n",
      "memory usage: 1.8+ KB\n"
     ]
    }
   ],
   "source": [
    "df = pd.read_csv('characters.csv')\n",
    "df.info()"
   ]
  },
  {
   "cell_type": "markdown",
   "id": "aadca09f",
   "metadata": {},
   "source": [
    "## create a database, 'test', and create a table, 'character_stats' in MySQL\n",
    "```\n",
    "CREATE DATABASE test;\n",
    "USE test;\n",
    "DROP TABLE IF EXISTS `character_stats`;\n",
    "\n",
    "CREATE TABLE IF NOT EXISTS `character_stats` (\n",
    "`id` INT NOT NULL AUTO_INCREMENT,\n",
    "`name` VARCHAR(50) NOT NULL,\n",
    "`race` VARCHAR(50) NOT NULL,\n",
    "`level` INT NOT NULL,\n",
    "`alignment` VARCHAR(50) NOT NULL,\n",
    "`strength` INT NOT NULL,\n",
    "`dexterity` INT NOT NULL,\n",
    "`constitution` INT NOT NULL,\n",
    "`intelligence` INT NOT NULL,\n",
    "`wisdom` INT NOT NULL,\n",
    "`charisma` INT NOT NULL,\n",
    "PRIMARY KEY (id)\n",
    ");\n",
    "```"
   ]
  },
  {
   "cell_type": "markdown",
   "id": "41865242",
   "metadata": {},
   "source": [
    "## connect to MySQL server and insert data from csv file"
   ]
  },
  {
   "cell_type": "code",
   "execution_count": 19,
   "id": "e350aa80",
   "metadata": {},
   "outputs": [
    {
     "name": "stdout",
     "output_type": "stream",
     "text": [
      "True\n"
     ]
    }
   ],
   "source": [
    "conn = msql.connect(user = 'root', password = '***', database = 'test')\n",
    "print(conn.is_connected())\n",
    "cursor = conn.cursor()\n",
    "\n",
    "add_char = (\"INSERT INTO test.character_stats \"\n",
    "           \"(id, name, race, level, alignment, strength, dexterity, constitution, intelligence, wisdom, charisma) \"\n",
    "           \"VALUES (DEFAULT, %(name)s, %(race)s, %(level)s, %(alignment)s, %(strength)s, %(dexterity)s, %(constitution)s, %(intelligence)s, %(wisdom)s, %(charisma)s)\")\n",
    "with open(\"characters.csv\", 'r') as file:\n",
    "    csv_file = csv.DictReader(file)\n",
    "    for row in csv_file:\n",
    "        data_char = dict(row)\n",
    "        cursor.execute(add_char, data_char)\n",
    "\n",
    "conn.commit()\n",
    "cursor.close()\n",
    "conn.close()\n",
    "\n"
   ]
  },
  {
   "cell_type": "markdown",
   "id": "8acce0b1",
   "metadata": {},
   "source": [
    "## here is a printout of all the rows from the created file, 'characters.csv'"
   ]
  },
  {
   "cell_type": "code",
   "execution_count": 3,
   "id": "140d0ae5",
   "metadata": {},
   "outputs": [
    {
     "name": "stdout",
     "output_type": "stream",
     "text": [
      "{'name': 'Lorill Faircloak', 'race': 'dwarf', 'level': '1', 'alignment': 'chaotic evil', 'strength': '12', 'dexterity': '9', 'constitution': '14', 'intelligence': '13', 'wisdom': '7', 'charisma': '7'}\n",
      "{'name': 'Thea Brightbuckle', 'race': 'human', 'level': '1', 'alignment': 'neutral neutral', 'strength': '14', 'dexterity': '11', 'constitution': '10', 'intelligence': '9', 'wisdom': '12', 'charisma': '15'}\n",
      "{'name': 'Helja Manbroek', 'race': 'halfling', 'level': '1', 'alignment': 'neutral good', 'strength': '10', 'dexterity': '14', 'constitution': '11', 'intelligence': '11', 'wisdom': '15', 'charisma': '11'}\n",
      "{'name': 'Lorill Saluzir', 'race': 'elf', 'level': '1', 'alignment': 'chaotic evil', 'strength': '12', 'dexterity': '17', 'constitution': '9', 'intelligence': '13', 'wisdom': '11', 'charisma': '14'}\n",
      "{'name': 'Birael Toruun', 'race': 'human', 'level': '1', 'alignment': 'chaotic neutral', 'strength': '13', 'dexterity': '10', 'constitution': '16', 'intelligence': '14', 'wisdom': '8', 'charisma': '14'}\n",
      "{'name': 'Thea Faircloak', 'race': 'gnome', 'level': '1', 'alignment': 'chaotic evil', 'strength': '8', 'dexterity': '14', 'constitution': '12', 'intelligence': '10', 'wisdom': '8', 'charisma': '12'}\n",
      "{'name': 'Lael Saluzir', 'race': 'elf', 'level': '1', 'alignment': 'lawful evil', 'strength': '17', 'dexterity': '13', 'constitution': '12', 'intelligence': '7', 'wisdom': '15', 'charisma': '18'}\n",
      "{'name': 'Wrenn Manbroek', 'race': 'halfling', 'level': '1', 'alignment': 'neutral evil', 'strength': '15', 'dexterity': '10', 'constitution': '11', 'intelligence': '8', 'wisdom': '10', 'charisma': '13'}\n",
      "{'name': 'Birael Brushfellow', 'race': 'gnome', 'level': '1', 'alignment': 'chaotic evil', 'strength': '4', 'dexterity': '13', 'constitution': '14', 'intelligence': '16', 'wisdom': '7', 'charisma': '18'}\n",
      "{'name': 'Lorill Navarro', 'race': 'elf', 'level': '1', 'alignment': 'chaotic neutral', 'strength': '12', 'dexterity': '14', 'constitution': '9', 'intelligence': '9', 'wisdom': '12', 'charisma': '10'}\n",
      "{'name': 'Ilde Toruun', 'race': 'dwarf', 'level': '1', 'alignment': 'chaotic evil', 'strength': '14', 'dexterity': '9', 'constitution': '14', 'intelligence': '12', 'wisdom': '7', 'charisma': '18'}\n",
      "{'name': 'Thea Toruun', 'race': 'human', 'level': '1', 'alignment': 'chaotic evil', 'strength': '14', 'dexterity': '11', 'constitution': '10', 'intelligence': '17', 'wisdom': '7', 'charisma': '11'}\n",
      "{'name': 'Marci Brushfellow', 'race': 'human', 'level': '1', 'alignment': 'chaotic good', 'strength': '17', 'dexterity': '10', 'constitution': '11', 'intelligence': '13', 'wisdom': '13', 'charisma': '14'}\n",
      "{'name': 'Birael Navarro', 'race': 'dwarf', 'level': '1', 'alignment': 'chaotic evil', 'strength': '8', 'dexterity': '13', 'constitution': '16', 'intelligence': '15', 'wisdom': '13', 'charisma': '9'}\n",
      "{'name': 'Birael Highthorne', 'race': 'human', 'level': '1', 'alignment': 'neutral good', 'strength': '7', 'dexterity': '6', 'constitution': '13', 'intelligence': '12', 'wisdom': '17', 'charisma': '9'}\n",
      "{'name': 'Ilde Highthorne', 'race': 'gnome', 'level': '1', 'alignment': 'chaotic evil', 'strength': '12', 'dexterity': '11', 'constitution': '17', 'intelligence': '7', 'wisdom': '12', 'charisma': '11'}\n",
      "{'name': 'Lorill Saluzir', 'race': 'human', 'level': '1', 'alignment': 'neutral evil', 'strength': '8', 'dexterity': '13', 'constitution': '11', 'intelligence': '11', 'wisdom': '13', 'charisma': '13'}\n",
      "{'name': 'Ilde Garreck', 'race': 'human', 'level': '1', 'alignment': 'lawful evil', 'strength': '14', 'dexterity': '14', 'constitution': '12', 'intelligence': '14', 'wisdom': '8', 'charisma': '13'}\n",
      "{'name': 'Helja Toruun', 'race': 'dwarf', 'level': '1', 'alignment': 'lawful neutral', 'strength': '12', 'dexterity': '14', 'constitution': '12', 'intelligence': '13', 'wisdom': '10', 'charisma': '13'}\n",
      "{'name': 'Ilde Saluzir', 'race': 'elf', 'level': '1', 'alignment': 'chaotic neutral', 'strength': '15', 'dexterity': '9', 'constitution': '14', 'intelligence': '10', 'wisdom': '14', 'charisma': '13'}\n",
      "{'name': 'Lorill Toruun', 'race': 'dwarf', 'level': '1', 'alignment': 'neutral neutral', 'strength': '13', 'dexterity': '15', 'constitution': '9', 'intelligence': '12', 'wisdom': '16', 'charisma': '9'}\n",
      "{'name': 'Ilde Manbroek', 'race': 'dwarf', 'level': '1', 'alignment': 'lawful neutral', 'strength': '11', 'dexterity': '13', 'constitution': '7', 'intelligence': '8', 'wisdom': '8', 'charisma': '13'}\n"
     ]
    }
   ],
   "source": [
    "with open(\"characters.csv\", 'r') as file:\n",
    "    csv_file = csv.DictReader(file)\n",
    "    for row in csv_file:\n",
    "        print(dict(row))  "
   ]
  },
  {
   "cell_type": "markdown",
   "id": "613169e1",
   "metadata": {},
   "source": [
    "## run a query on the data in MySQL"
   ]
  },
  {
   "cell_type": "code",
   "execution_count": 25,
   "id": "8ae29993",
   "metadata": {},
   "outputs": [
    {
     "name": "stdout",
     "output_type": "stream",
     "text": [
      "True\n",
      "Lorill Faircloak has a strength score of 12\n",
      "Ilde Toruun has a strength score of 14\n",
      "Birael Navarro has a strength score of 8\n",
      "Helja Toruun has a strength score of 12\n",
      "Lorill Toruun has a strength score of 13\n",
      "Ilde Manbroek has a strength score of 11\n"
     ]
    }
   ],
   "source": [
    "conn = msql.connect(user = 'root', password = '***', database = 'test')\n",
    "print(conn.is_connected())\n",
    "cursor = conn.cursor()\n",
    "\n",
    "query = (\"SELECT name, strength FROM test.character_stats \"\n",
    "        \"WHERE race = 'dwarf'\")\n",
    "\n",
    "cursor.execute(query)\n",
    "for (name, strength) in cursor:\n",
    "    print(\"{} has a strength score of {}\".format(name, strength))\n",
    "\n",
    "cursor.close()\n",
    "conn.close()\n",
    "\n"
   ]
  },
  {
   "cell_type": "markdown",
   "id": "584d9927",
   "metadata": {},
   "source": [
    "## interactive tableau dashboard\n",
    "\n",
    "<a href=\"https://public.tableau.com/app/profile/jr2877/viz/characters_viz/Dashboard1\">Click</a>"
   ]
  }
 ],
 "metadata": {
  "kernelspec": {
   "display_name": "Python 3 (ipykernel)",
   "language": "python",
   "name": "python3"
  },
  "language_info": {
   "codemirror_mode": {
    "name": "ipython",
    "version": 3
   },
   "file_extension": ".py",
   "mimetype": "text/x-python",
   "name": "python",
   "nbconvert_exporter": "python",
   "pygments_lexer": "ipython3",
   "version": "3.9.12"
  }
 },
 "nbformat": 4,
 "nbformat_minor": 5
}
